{
 "cells": [
  {
   "cell_type": "code",
   "execution_count": 1,
   "id": "f78b2d1c",
   "metadata": {},
   "outputs": [
    {
     "name": "stdout",
     "output_type": "stream",
     "text": [
      "package_folder: /home/rouge/machine_learning_course/week-5/RallyRobotPilot_2025/.venv/lib/python3.12/site-packages/ursina\n",
      "asset_folder: /home/rouge/machine_learning_course/week-5/RallyRobotPilot_2025/.venv/lib/python3.12/site-packages\n"
     ]
    }
   ],
   "source": [
    "# notebooks/analysis.ipynb\n",
    "\n",
    "# The magic command for interactive plots\n",
    "%matplotlib notebook\n",
    "\n",
    "import torch\n",
    "import torch.nn as nn\n",
    "import matplotlib.pyplot as plt\n",
    "\n",
    "# --- NEW, CLEANER IMPORTS ---\n",
    "from rallyrobopilot.ml.model import RobopilotMLP\n",
    "from rallyrobopilot.ml.training import prepare_data\n",
    "from rallyrobopilot.ml.utils import LossPlotter\n",
    "\n",
    "# --- Set file paths correctly ---\n",
    "MODEL_SAVE_PATH = \"../models/robopilot_notebook_run.pth\"\n",
    "FIGURE_SAVE_PATH = \"../reports/figures/loss_notebook_run.png\""
   ]
  },
  {
   "cell_type": "code",
   "execution_count": 2,
   "id": "b572eca0",
   "metadata": {},
   "outputs": [
    {
     "name": "stdout",
     "output_type": "stream",
     "text": [
      "--- Starting Data Preparation for sources: ['normal', 'mirrored'] ---\n",
      "[!] Warning: No data found in 'data/normal'\n",
      "[!] Warning: No data found in 'data/mirrored'\n",
      "\n",
      "[!] No data was loaded! Check the 'sources' argument and your folder structure.\n"
     ]
    }
   ],
   "source": [
    "# --- 1. Hyperparameters and Setup ---\n",
    "NUM_EPOCHS = 25\n",
    "BATCH_SIZE = 64\n",
    "LEARNING_RATE = 0.001\n",
    "MODEL_SAVE_PATH = \"robopilot_model_v1.pth\"\n",
    "\n",
    "# --- 2. Data Preparation ---\n",
    "# Call your imported function to get the data\n",
    "# This is interactive - you can easily change the sources and re-run just this cell\n",
    "train_loader, val_loader = prepare_data(\n",
    "    batch_size=BATCH_SIZE, \n",
    "    sources=['normal', 'mirrored']\n",
    ")"
   ]
  },
  {
   "cell_type": "code",
   "execution_count": 3,
   "id": "5d5171f2",
   "metadata": {},
   "outputs": [],
   "source": [
    "if train_loader:\n",
    "    # --- 3. Model, Loss, and Optimizer Initialization ---\n",
    "    \n",
    "    # --- CORRECTED LINE ---\n",
    "    # Instantiate the model with your desired dropout rate.\n",
    "    model = RobopilotMLP(dropout_rate=0.5)\n",
    "\n",
    "    # --- REMOVED LINE ---\n",
    "    # We no longer need this line: model.layers.add_module(\"dropout_1\", nn.Dropout(0.5))\n",
    "\n",
    "    criterion = nn.BCELoss()\n",
    "    # Add weight_decay to the optimizer\n",
    "    optimizer = torch.optim.Adam(model.parameters(), lr=LEARNING_RATE, weight_decay=1e-5)\n",
    "    \n",
    "    plotter = LossPlotter()\n",
    "\n",
    "    # --- 4. The Training Loop ---\n",
    "    # (You can copy the training loop here or also put it in a function in train.py)\n",
    "    print(\"\\n--- Starting Model Training ---\")\n",
    "    for epoch in range(NUM_EPOCHS):\n",
    "        model.train()\n",
    "        total_train_loss = 0\n",
    "        for i, (features, labels) in enumerate(train_loader):\n",
    "            outputs = model(features)\n",
    "            loss = criterion(outputs, labels)\n",
    "            optimizer.zero_grad()\n",
    "            loss.backward()\n",
    "            optimizer.step()\n",
    "            total_train_loss += loss.item()\n",
    "        avg_train_loss = total_train_loss / len(train_loader)\n",
    "\n",
    "        model.eval()\n",
    "        total_val_loss = 0\n",
    "        with torch.no_grad():\n",
    "            for features, labels in val_loader:\n",
    "                outputs = model(features)\n",
    "                loss = criterion(outputs, labels)\n",
    "                total_val_loss += loss.item()\n",
    "        avg_val_loss = total_val_loss / len(val_loader)\n",
    "        \n",
    "        print(f'Epoch [{epoch+1}/{NUM_EPOCHS}], Train Loss: {avg_train_loss:.4f}, Validation Loss: {avg_val_loss:.4f}')\n",
    "        plotter.update(avg_train_loss, avg_val_loss)\n",
    "\n",
    "    print(\"--- Model Training Complete ---\")\n",
    "    torch.save(model.state_dict(), MODEL_SAVE_PATH)\n",
    "    plotter.save(FIGURE_SAVE_PATH)"
   ]
  },
  {
   "cell_type": "code",
   "execution_count": 1,
   "id": "eb99a8c1",
   "metadata": {},
   "outputs": [
    {
     "name": "stdout",
     "output_type": "stream",
     "text": [
      "package_folder: /home/rouge/machine_learning_course/week-5/RallyRobotPilot_2025/.venv/lib/python3.12/site-packages/ursina\n",
      "asset_folder: ../scripts\n",
      "Initializing Autopilot Controller...\n",
      "✅ Model loaded successfully from ../models/robopilot_model_v2.pth\n",
      "🤖 Autopilot Activated.\n",
      "🛑 Autopilot Deactivated.\n"
     ]
    }
   ],
   "source": [
    "!python ../scripts/run_autopilot.py ../models/robopilot_model_v2.pth"
   ]
  }
 ],
 "metadata": {
  "kernelspec": {
   "display_name": ".venv",
   "language": "python",
   "name": "python3"
  },
  "language_info": {
   "codemirror_mode": {
    "name": "ipython",
    "version": 3
   },
   "file_extension": ".py",
   "mimetype": "text/x-python",
   "name": "python",
   "nbconvert_exporter": "python",
   "pygments_lexer": "ipython3",
   "version": "3.12.3"
  }
 },
 "nbformat": 4,
 "nbformat_minor": 5
}
